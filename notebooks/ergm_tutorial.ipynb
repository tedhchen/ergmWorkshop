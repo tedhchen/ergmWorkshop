{
 "cells": [
  {
   "cell_type": "markdown",
   "id": "1fe99d89-02d8-472e-b59f-52a6d1e631f5",
   "metadata": {},
   "source": [
    "# 1. Preparation\n",
    "#### First we install the required packages"
   ]
  },
  {
   "cell_type": "code",
   "execution_count": null,
   "id": "7b8bc13f-cb8a-411f-bd66-4b617e6d967f",
   "metadata": {},
   "outputs": [],
   "source": [
    "install.packages(c('network'), .libPaths(), repos='http://cran.us.r-project.org', type = 'binary')\n",
    "install.packages(c('ergm'), .libPaths(), repos='http://cran.us.r-project.org', type = 'binary')\n",
    "install.packages(c('devtools'), .libPaths(), repos='http://cran.us.r-project.org', type = 'binary')"
   ]
  },
  {
   "cell_type": "markdown",
   "id": "57f09fad-ddb2-4fcc-bd38-04a277b6584c",
   "metadata": {},
   "source": [
    "#### This includes the workshop package that contains the data we will be working with and some utility functions."
   ]
  },
  {
   "cell_type": "code",
   "execution_count": null,
   "id": "aa481d1f-eeb3-4847-b36b-73b56f7a3482",
   "metadata": {},
   "outputs": [],
   "source": [
    "devtools::install_github('tedhchen/ergmWorkshop', force = T)"
   ]
  },
  {
   "cell_type": "markdown",
   "id": "04d774d6-d48b-4259-82da-48a8598cdbf2",
   "metadata": {},
   "source": [
    "#### Next, we load the libraries."
   ]
  },
  {
   "cell_type": "code",
   "execution_count": null,
   "id": "8d10b003-d3d8-4b8d-8b96-c75386577e5c",
   "metadata": {},
   "outputs": [],
   "source": [
    "library(ergm)\n",
    "library(ergmWorkshop)"
   ]
  },
  {
   "cell_type": "markdown",
   "id": "1a855e66-423e-43dd-accd-f6cac94f6bc4",
   "metadata": {},
   "source": [
    "As you can see from the output, loading the `ergm` package also loaded the `network` package.\n",
    "\n",
    "There are also these references to the `statnet` project. They are the main developers of ERGM functionalities in `R`."
   ]
  },
  {
   "cell_type": "markdown",
   "id": "4fc1c97c-21df-40cd-8b80-464088b96aa3",
   "metadata": {},
   "source": [
    "# 2. Building our networks\n",
    "#### First, load the data.\n",
    "The data sets we will be using are part of the workshop package. We start with the militarized interstate dispute data from Zeev Maoz."
   ]
  },
  {
   "cell_type": "code",
   "execution_count": null,
   "id": "577dce42-f5b3-4437-9df7-7317cdbcd194",
   "metadata": {},
   "outputs": [],
   "source": [
    "data(mid_mat)\n",
    "?mid_mat"
   ]
  },
  {
   "cell_type": "code",
   "execution_count": null,
   "id": "2a90c903-7931-46df-ac68-ccf74dab2f9f",
   "metadata": {},
   "outputs": [],
   "source": [
    "nw <- network(mid_mat, directed = F)\n",
    "nw"
   ]
  },
  {
   "cell_type": "code",
   "execution_count": null,
   "id": "1396f55b-535f-4c97-a20f-6522dffda323",
   "metadata": {},
   "outputs": [],
   "source": [
    "options(repr.plot.width=20, repr.plot.height=10)\n",
    "par(mfrow = c(1, 2))\n",
    "set.seed(210615); plot(nw)"
   ]
  },
  {
   "cell_type": "markdown",
   "id": "46c5ab50-da1b-438e-b01f-b95238784f3a",
   "metadata": {},
   "source": [
    "#### There are different ways network data is usually stored.\n",
    "The adjacency matrix format is generally the easiest to work with, but it can waste a lot of space.\n",
    "\n",
    "Sometimes, we will have edgelists instead. But we need to be careful when working with them."
   ]
  },
  {
   "cell_type": "code",
   "execution_count": null,
   "id": "1c623b45-7fa6-4824-b17a-1dc8c5efc190",
   "metadata": {},
   "outputs": [],
   "source": [
    "data(mid_edgelist)\n",
    "nw.b <- network(mid_edgelist, directed = F)\n",
    "nw.b"
   ]
  },
  {
   "cell_type": "markdown",
   "id": "67a85363-f0be-4406-97a7-0e061ed8b402",
   "metadata": {},
   "source": [
    "#### What's the difference?"
   ]
  },
  {
   "cell_type": "code",
   "execution_count": null,
   "id": "1019e473-ac84-4605-bc5c-0951e6f05788",
   "metadata": {},
   "outputs": [],
   "source": [
    "options(repr.plot.width=20, repr.plot.height=10)\n",
    "par(mfrow = c(1, 2))\n",
    "set.seed(210615); plot(nw); plot(nw.b)"
   ]
  },
  {
   "cell_type": "markdown",
   "id": "622e2fde-0e27-4b70-8663-af75f65f07e3",
   "metadata": {},
   "source": [
    "#### Where are the isolates?"
   ]
  },
  {
   "cell_type": "code",
   "execution_count": null,
   "id": "b50fe511-f284-4ea4-ba54-48560eed3109",
   "metadata": {},
   "outputs": [],
   "source": [
    "data(mid_node_attr)\n",
    "head(mid_node_attr)\n",
    "?mid_node_attr"
   ]
  },
  {
   "cell_type": "markdown",
   "id": "81dc4484-a875-4cfd-a283-2ca3cc741e4d",
   "metadata": {},
   "source": [
    "#### Let's manually make the adjacency matrix from the edgelist.\n",
    "- Start by making an empty matrix."
   ]
  },
  {
   "cell_type": "code",
   "execution_count": null,
   "id": "fede0ca4-e671-4017-8ce2-a4bd1e268c84",
   "metadata": {},
   "outputs": [],
   "source": [
    "mat <- matrix(0, ncol = 189, nrow = 189, dimnames = list(row.names(mid_node_attr), row.names(mid_node_attr)))\n",
    "mat[1:10, 1:10]"
   ]
  },
  {
   "cell_type": "markdown",
   "id": "6848f596-f746-469c-9d5f-c4a0e8523b5e",
   "metadata": {},
   "source": [
    "- Next, loop through the edges and fill the correct cells."
   ]
  },
  {
   "cell_type": "code",
   "execution_count": null,
   "id": "25e01d86-a8d1-4733-9936-16c132e32b1a",
   "metadata": {},
   "outputs": [],
   "source": [
    "for(i in 1:nrow(mid_edgelist)){\n",
    "    mat[mid_edgelist[i, 1], mid_edgelist[i, 2]] <- 1\n",
    "    mat[mid_edgelist[i, 2], mid_edgelist[i, 1]] <- 1\n",
    "}"
   ]
  },
  {
   "cell_type": "markdown",
   "id": "ecf175ef-b6cf-45f9-baa4-77be03422538",
   "metadata": {},
   "source": [
    "`checkmat()` is a utility function that plots the supplied adjacency matrix."
   ]
  },
  {
   "cell_type": "code",
   "execution_count": null,
   "id": "1fd7182e-3724-429d-9fe0-bb4e41610fb2",
   "metadata": {},
   "outputs": [],
   "source": [
    "options(repr.plot.width=14, repr.plot.height=7)\n",
    "par(mfrow = c(1, 2))\n",
    "checkmat(mat);checkmat(mid_mat)"
   ]
  },
  {
   "cell_type": "markdown",
   "id": "c58c760c-7f88-48dd-8dd3-5aa2440ca1f3",
   "metadata": {},
   "source": [
    "#### Let's get back to working with our network."
   ]
  },
  {
   "cell_type": "code",
   "execution_count": null,
   "id": "cd9e39ae-8acd-4462-b108-1d42c6652a3a",
   "metadata": {},
   "outputs": [],
   "source": [
    "nw"
   ]
  },
  {
   "cell_type": "markdown",
   "id": "3718bc5c-a83e-4cd7-b696-c764e38daaec",
   "metadata": {},
   "source": [
    "#### Let's work with vertex attributes"
   ]
  },
  {
   "cell_type": "code",
   "execution_count": null,
   "id": "0760dea0-d735-4be1-b15e-99ab3f93b393",
   "metadata": {},
   "outputs": [],
   "source": [
    "nw%v%'vertex.names'"
   ]
  },
  {
   "cell_type": "code",
   "execution_count": null,
   "id": "e088e8b8-be8f-41a2-9902-dba141d696d1",
   "metadata": {},
   "outputs": [],
   "source": [
    "nw%v%'dem' <- mid_node_attr$'dem'\n",
    "nw"
   ]
  },
  {
   "cell_type": "code",
   "execution_count": null,
   "id": "0f726d93-4fdf-47e0-bc32-0bda832773b4",
   "metadata": {},
   "outputs": [],
   "source": [
    "nw%v%'dem'"
   ]
  },
  {
   "cell_type": "markdown",
   "id": "f14c1d31-8d3a-450e-9955-85f80a4f588c",
   "metadata": {},
   "source": [
    "#### Red nodes are democracies and black are nondemocracies"
   ]
  },
  {
   "cell_type": "code",
   "execution_count": null,
   "id": "f37fb550-7c4f-4ea9-ac79-11bd68e2927c",
   "metadata": {},
   "outputs": [],
   "source": [
    "options(repr.plot.width=10, repr.plot.height=10)\n",
    "set.seed(210615); plot(nw, vertex.col = ifelse(nw%v%'dem', 2, 1)); legend('bottomright', legend = c('Democracy', 'Nondemocracy'), fill = c(2, 1), bty = 'n', cex = 1.1)"
   ]
  },
  {
   "cell_type": "markdown",
   "id": "1fd508d4-4597-4a7c-9187-4349c96e6604",
   "metadata": {},
   "source": [
    "#### Edge attributes can also be specified in a similar way but it's easier to just use a separate matrix\n",
    "These are the geographical contiguity and joint-democracy networks."
   ]
  },
  {
   "cell_type": "code",
   "execution_count": null,
   "id": "f586ac17-21bf-4c0d-9c9f-828781e8fe95",
   "metadata": {},
   "outputs": [],
   "source": [
    "data(contig); data(joint_dem)"
   ]
  },
  {
   "cell_type": "code",
   "execution_count": null,
   "id": "e333e4d5-0635-48a5-9792-e3bd84976140",
   "metadata": {},
   "outputs": [],
   "source": [
    "options(repr.plot.width=20, repr.plot.height=10)\n",
    "par(mfrow = c(1, 2))\n",
    "set.seed(210615); plot(network(contig, directed = F), sub = 'Contiguity', cex.sub = 2); plot(network(joint_dem, directed = F), sub = 'Joint-Democracy', cex.sub = 2)"
   ]
  },
  {
   "cell_type": "markdown",
   "id": "191f3794-3b1f-4fef-a0e9-88f14fd0bac6",
   "metadata": {},
   "source": [
    "# 3. Specifying the ERGM\n",
    "\n",
    "#### Let's take a look at the basic function for ERGM fitting: `ergm`\n",
    "\n",
    "`ergm(network ~ ergm-terms)`\n",
    "\n",
    "#### What are the ERGM terms that we can use?"
   ]
  },
  {
   "cell_type": "markdown",
   "id": "af686921-e6cb-49f2-8313-51005908bb1a",
   "metadata": {},
   "source": [
    "## 3.1 ERGM Terms\n",
    "- use ``?`ergm-terms'`` to look at all the existing terms in the `ergm` package (not demonstrating because it does not render well in a notebook)\n",
    "- the `search.ergmTerms` function also works well"
   ]
  },
  {
   "cell_type": "code",
   "execution_count": null,
   "id": "b5d0d6dc-cad4-4b46-b9ff-e0eaf2450723",
   "metadata": {},
   "outputs": [],
   "source": [
    "search.ergmTerms(keyword = 'transitive')"
   ]
  },
  {
   "cell_type": "markdown",
   "id": "83163ad3-a723-406d-9e50-ce099eb5c4f6",
   "metadata": {},
   "source": [
    "## 3.2 Starting to fit an ERGM\n",
    "#### We start with some node and dyad variables"
   ]
  },
  {
   "cell_type": "code",
   "execution_count": null,
   "id": "ed0e6f9c-4f79-4b38-83ce-7a40e93e3ea8",
   "metadata": {},
   "outputs": [],
   "source": [
    "m0 <- ergm(nw ~ edges + nodefactor('dem') + edgecov(joint_dem))\n",
    "summary(m0)"
   ]
  },
  {
   "cell_type": "markdown",
   "id": "82b7cdcf-2379-492d-bec1-f62a02e5ebb1",
   "metadata": {},
   "source": [
    "#### Let's compare it with the logistic regression"
   ]
  },
  {
   "cell_type": "code",
   "execution_count": null,
   "id": "080bf5bc-b05a-4e38-b035-1b9dfcd639c5",
   "metadata": {},
   "outputs": [],
   "source": [
    "dyad_df <- ergmMPLE(nw ~ edges + nodefactor('dem') + edgecov(joint_dem))\n",
    "dyad_df$predictor"
   ]
  },
  {
   "cell_type": "code",
   "execution_count": null,
   "id": "9e2c104f-2941-4ee5-b14c-9dc174ae79ab",
   "metadata": {},
   "outputs": [],
   "source": [
    "summary(glm(dyad_df$response ~ dyad_df$predictor - 1, weights = dyad_df$weights, family = 'binomial'))"
   ]
  },
  {
   "cell_type": "markdown",
   "id": "55118249-326c-40fb-9cdf-e53fe0f48005",
   "metadata": {},
   "source": [
    "#### Let's move to some network effects\n",
    "- start with the \"pile-on\" (or popularity) effect\n",
    "-`kstar(2)` (which is the 2-star term) is the basic term"
   ]
  },
  {
   "cell_type": "code",
   "execution_count": null,
   "id": "e8afc629-14e2-4a4d-a39d-0aa5420ed835",
   "metadata": {},
   "outputs": [],
   "source": [
    "m1 <- ergm(nw ~ edges + nodefactor('dem') + edgecov(joint_dem) + kstar(2))"
   ]
  },
  {
   "cell_type": "markdown",
   "id": "743d217f-182d-40de-8453-64caed3f1824",
   "metadata": {},
   "source": [
    "#### What happened here?\n",
    "- This is one of the difficulties of ERGMs: they run into degeneracy issues.\n",
    "- Degeneracy means...\n",
    "\n",
    "So instead, we can use alternative network statistics designed to address these problems.\n",
    "- For the popularity (or pile-on) effect, the commonly-used one is the geometrically-weighted degree.\n",
    "- In the `ergm` package, it is called `gwdegree`.\n",
    "\n",
    "References:\n"
   ]
  },
  {
   "cell_type": "code",
   "execution_count": null,
   "id": "cd29d174-ef62-4c6d-a677-42a549df6f1e",
   "metadata": {},
   "outputs": [],
   "source": [
    "m1 <- ergm(nw ~ edges + nodefactor('dem') + edgecov(joint_dem) + gwdegree(decay = 0, fixed = T))"
   ]
  },
  {
   "cell_type": "markdown",
   "id": "771d83af-90ab-46cc-8dd9-98272e8479f5",
   "metadata": {},
   "source": [
    "#### Looks like it converged"
   ]
  },
  {
   "cell_type": "code",
   "execution_count": null,
   "id": "e8dcbc39-ed1b-439d-ac84-92debac09385",
   "metadata": {},
   "outputs": [],
   "source": [
    "summary(m1)"
   ]
  },
  {
   "cell_type": "markdown",
   "id": "9ec7b2ec-38da-49b9-b6ff-1d7dd93d8507",
   "metadata": {},
   "source": [
    "- the `gwdeg.fixed.0` term has coefficient of -1.17\n",
    "- **for the geometrically weighted degree term, negative means popular**\n",
    "    - This is an easy mistake: a review in 2016 shows that only 4/16 papers got it right.\n",
    "- compare the model fit statistics: AIC and BIC are both much better than without fitting the pile-on effect\n",
    "\n",
    "#### Let's also add the triadic closure effect before looking at the model in more detail"
   ]
  },
  {
   "cell_type": "code",
   "execution_count": null,
   "id": "75ace618-2369-4b05-b12e-30655fb13824",
   "metadata": {},
   "outputs": [],
   "source": [
    "m2 <- ergm(nw ~ edges + nodefactor('dem') + edgecov(joint_dem) + gwdegree(decay = 0, fixed = T) + triangle)"
   ]
  },
  {
   "cell_type": "markdown",
   "id": "415b3dc8-36fc-46e2-8038-127913a9bc28",
   "metadata": {},
   "source": [
    "#### Again, seems like we have degeneracy\n",
    "- we can use the geometrically weighted edgewise shared partners statistic\n",
    "- in the `ergm` package, it is called `gwesp`"
   ]
  },
  {
   "cell_type": "code",
   "execution_count": null,
   "id": "194b0056-5066-48c2-88c6-f5023118ffea",
   "metadata": {},
   "outputs": [],
   "source": [
    "m2 <- ergm(nw ~ edges + nodefactor('dem') + edgecov(joint_dem) + gwdegree(decay = 0, fixed = T) + gwesp(decay = 0, fixed = T))"
   ]
  },
  {
   "cell_type": "code",
   "execution_count": null,
   "id": "a08c5525-3a46-4b73-a309-60ce66c2329e",
   "metadata": {},
   "outputs": [],
   "source": [
    "summary(m2)"
   ]
  },
  {
   "cell_type": "markdown",
   "id": "aaf0185c-03ec-4058-b977-3e04f3f84485",
   "metadata": {},
   "source": [
    "#### Looks like it converged\n",
    "- `gwesp.fixed.0` is positive here\n",
    "- this is against what we expected, but it's hard to draw conclusions since the model is quite rudimentary\n",
    "- model fit is improved again; this is generally what happens with the `gwdegree` and `gwesp` terms"
   ]
  },
  {
   "cell_type": "markdown",
   "id": "fca660ab-c59b-452f-8190-3558bcbd1b69",
   "metadata": {},
   "source": [
    "### 3.2.1 Let's consider model fit, degeneracy, and decay parameters\n",
    "#### How to understand the decay parameters?\n",
    "- the lower the decay value, the less likely you are going to run into degeneracy problems\n",
    "- at the same time, a lower decay value also makes the model fit worse because you are removing information (generally speaking)\n",
    "- for the geometrically weighted degree, lower decay values makes additional clustered ties matter less (the same interpretation works for additional edgewise shared partners in the `gwesp`)\n",
    "- the model is less able to discriminate between the network effect of small and large clusters\n",
    "- The most useful tool when working with geometrically weighted degrees: https://github.com/michaellevy/gwdegree\n",
    "\n",
    "#### This is easiest to demonstrate using the `gwesp`\n",
    "- let's make a fully saturated direct network with 10 nodes\n",
    "- this network will have $10\\times 9 = 90$ edges\n",
    "- every edge will have 8 edgewise shared partners"
   ]
  },
  {
   "cell_type": "code",
   "execution_count": null,
   "id": "b43e8495-3541-48ac-8c84-ed31822ba257",
   "metadata": {},
   "outputs": [],
   "source": [
    "tenclique <- network(matrix(1, ncol = 10, nrow = 10), directed = T)\n",
    "options(repr.plot.width=7, repr.plot.height=7)\n",
    "set.seed(210615); plot(tenclique)"
   ]
  },
  {
   "cell_type": "code",
   "execution_count": null,
   "id": "abf1c485-a7f8-4bd7-8bea-dd215a800952",
   "metadata": {},
   "outputs": [],
   "source": [
    "summary(tenclique ~ edges + gwesp(0, fixed = T) + gwesp(0.5, fixed = T) + gwesp(1, fixed = T) + gwesp(2, fixed = T) + gwesp(5, fixed = T) + gwesp(10, fixed = T) + ttriple)"
   ]
  },
  {
   "cell_type": "markdown",
   "id": "8d0b69be-7b06-43c6-9536-922a48c907c7",
   "metadata": {},
   "source": [
    "#### What happened?\n",
    "- `gwesp` with decay set to 0 means every edge has \"one or more\" shared partner - this makes it the same value as the `edge` count term\n",
    "- as we increase the decay value, it starts to converge toward the `ttriple` term, which is a count of all edgewise shared partners of all edges (i.e. $10\\times 9\\times 8 = 720$)\n",
    "- on the one end, you will have an unidentified model (i.e. `edges` and `gwesp` are the same) and on the other end, you will run into degeneracy issues\n",
    "\n",
    "\n",
    "\n",
    "#### Let's look at a real example using our MIDs network\n",
    "- let's increase the decay value to 0.2"
   ]
  },
  {
   "cell_type": "code",
   "execution_count": null,
   "id": "ec7f3870-6e61-4cc6-87a4-8086277b9ff7",
   "metadata": {},
   "outputs": [],
   "source": [
    "m2.b <- ergm(nw ~ edges + nodefactor('dem') + edgecov(joint_dem) + gwdegree(decay = 0.2, fixed = T) + gwesp(decay = 0, fixed = T))"
   ]
  },
  {
   "cell_type": "code",
   "execution_count": null,
   "id": "b15c7826-cf44-4655-afe3-b458fc64ff04",
   "metadata": {},
   "outputs": [],
   "source": [
    "summary(m2.b)"
   ]
  },
  {
   "cell_type": "markdown",
   "id": "59f2d37e-82cf-4e8d-b308-59641852a932",
   "metadata": {},
   "source": [
    "#### Slightly increasing the decay value improved fit and didn't run into degeneracy issues\n",
    "\n",
    "## 3.3 Assessing ERGM fit\n",
    "#### Back to our MIDs model; it seems like our model converged, but we should still check the fit using simulations\n",
    "- the ERGM is a generative model, so it can be used to simulate networks that have the same generative features (parameters and configurations)\n",
    "- simulate a bunch of networks, which lets us check how well our model captures the observed network\n",
    "- the `gof` function is what we use"
   ]
  },
  {
   "cell_type": "code",
   "execution_count": null,
   "id": "bbed9783-e235-41f0-aba7-3b1bccac5ac3",
   "metadata": {},
   "outputs": [],
   "source": [
    "m2fit <- gof(m2)\n",
    "m2fit"
   ]
  },
  {
   "cell_type": "markdown",
   "id": "3f4ac775-3296-4afd-942a-b0e8721ab58e",
   "metadata": {},
   "source": [
    "#### What are we looking at?\n",
    "- we simulated a bunch of networks, and computed some important network statistics\n",
    "- the output above are summaries of the simulations compared to the observed value\n",
    "- it's easier to see when we plot them"
   ]
  },
  {
   "cell_type": "code",
   "execution_count": null,
   "id": "57a7875e-03c6-474d-8fcd-5c141fb59d66",
   "metadata": {},
   "outputs": [],
   "source": [
    "options(repr.plot.width=32, repr.plot.height=8)\n",
    "par(mfrow = c(1, 4))\n",
    "plot(m2fit)"
   ]
  },
  {
   "cell_type": "markdown",
   "id": "bebaea84-723a-4eae-8ffa-47fa53393e91",
   "metadata": {},
   "source": [
    "- black line shows the observed values\n",
    "- the box and whisker plots show the distributions of the simulated networks\n",
    "- ideally, we want the observed values to fall in the gray boxes\n",
    "- we also don't want to \"overfit\"\n",
    "- there isn't an exact answer to this task\n",
    "\n",
    "#### But it helps to compare"
   ]
  },
  {
   "cell_type": "code",
   "execution_count": null,
   "id": "072599e3-43f5-46c9-8695-ef0256f1fdef",
   "metadata": {},
   "outputs": [],
   "source": [
    "m1fit <- gof(m1)\n",
    "options(repr.plot.width=32, repr.plot.height=8)\n",
    "par(mfrow = c(1, 4))\n",
    "plot(m1fit)"
   ]
  },
  {
   "cell_type": "markdown",
   "id": "a09028e5-1f5c-4867-b353-e9ebdc662c7a",
   "metadata": {},
   "source": [
    "## 3.4 Interpreting the ERGM output\n",
    "#### Let's bring up the model output again"
   ]
  },
  {
   "cell_type": "code",
   "execution_count": null,
   "id": "7213b4cb-e993-4cbb-bbae-0eda0ca6edd5",
   "metadata": {},
   "outputs": [],
   "source": [
    "summary(m2)"
   ]
  },
  {
   "cell_type": "markdown",
   "id": "3d682203-b780-4f26-bdcc-7734e32af722",
   "metadata": {},
   "source": [
    "#### At the network level:\n",
    "- positive coefficient means positive contribution to the network generative process\n",
    "- for example, positive `gwesp` means triadic closure is a feature of the network"
   ]
  },
  {
   "cell_type": "markdown",
   "id": "bb55dce6-9b5b-4036-b13b-804be392f744",
   "metadata": {},
   "source": [
    "#### At the dyad level:\n",
    "- how many configurations are each edge a part of? (this is the change statistic)\n",
    "- `nodefactor.dem` will be 0 if two nondemocracies, 1 if mixed regime, and 2 if joint democracies\n",
    "- `gwesp.fixed.0` will be 1 if the dyad is part of at least one triangle\n",
    "\n",
    "#### $P(y_{ij} = 1 | Y, \\mathbf{\\theta})  = logit ^{-1}(\\sum^k_{r=1}\\theta_r \\delta_r^{(ij)}Y)$\n",
    "- conditional log odds of a tie given a one unit change in the statistic\n",
    "- for the less complicated terms, it becomes the conditional log odds of a tie given that it is part of the structure one time"
   ]
  },
  {
   "cell_type": "markdown",
   "id": "b85bfb81-d431-4934-9884-17cf317536c7",
   "metadata": {},
   "source": [
    "#### Let's illustrate using a simple example and the same coefficients\n",
    "Just a simple three node network with two ties to show tie formation on the empty dyad"
   ]
  },
  {
   "cell_type": "code",
   "execution_count": null,
   "id": "65b7060e-15ed-4e0c-84b7-17187e671fc6",
   "metadata": {},
   "outputs": [],
   "source": [
    "tri <- matrix(c(0, 1, 1,\n",
    "                1, 0, 0,\n",
    "                1, 0, 0), byrow = T, ncol = 3)\n",
    "nw.tri <- network(tri, directed = F)\n",
    "nw.tri%v%'dem' <- c(0, 1, 1)\n",
    "jd.tri <- matrix(c(0, 0, 0,\n",
    "                   0, 0, 1,\n",
    "                   0, 1, 0), byrow = T, ncol = 3)\n",
    "options(repr.plot.width=10, repr.plot.height=10)\n",
    "set.seed(210615); plot(nw.tri, vertex.col = ifelse(nw.tri%v%'dem', 2, 1), displaylabels = T)"
   ]
  },
  {
   "cell_type": "markdown",
   "id": "6e73dea7-82f7-41b8-ac93-c81de909cb08",
   "metadata": {},
   "source": [
    "#### What's the probability of a tie forming on the empty dyad if this network has the same generative features of our conflict network?\n",
    "- we need to see how the addition of the tie will change the network statistics\n",
    "- the `ergmMPLE` function can help with this, especially with more complicated terms like the geometrically weighted ones"
   ]
  },
  {
   "cell_type": "code",
   "execution_count": null,
   "id": "ef4769fa-4e44-451b-b98b-b24654ca0ed9",
   "metadata": {},
   "outputs": [],
   "source": [
    "ergmMPLE(nw.tri ~ edges + nodefactor('dem') + edgecov(jd.tri) + gwdegree(decay = 0, fixed = T) + gwesp(decay = 0, fixed = T))$predictor"
   ]
  },
  {
   "cell_type": "markdown",
   "id": "7820f144-872a-45a2-a927-e00fbb5f0889",
   "metadata": {},
   "source": [
    "#### Adding an edge on the 2-3 dyad will add...\n",
    "- 1 edge\n",
    "- 2 democracies\n",
    "- 1 joint democracy dyad\n",
    "- 0 to the `gwdegree.0` term\n",
    "- 3 to the `gwesp.0` term\n",
    "\n",
    "#### Why does `gwdegree` not change?\n",
    "Let's look at the degree distribution:\n",
    "<style type=\"text/css\">\n",
    ".tg  {border-collapse:collapse;border-spacing:0;}\n",
    ".tg td{border-color:black;border-style:solid;border-width:1px;font-family:Arial, sans-serif;font-size:14px;\n",
    "  overflow:hidden;padding:10px 5px;word-break:normal;}\n",
    ".tg th{border-color:black;border-style:solid;border-width:1px;font-family:Arial, sans-serif;font-size:14px;\n",
    "  font-weight:normal;overflow:hidden;padding:10px 5px;word-break:normal;}\n",
    ".tg .tg-0pky{border-color:inherit;text-align:left;vertical-align:top}\n",
    "</style>\n",
    "<table class=\"tg\" align = \"left\">\n",
    "<thead>\n",
    "  <tr>\n",
    "    <th class=\"tg-0pky\">nodes with degree:</th>\n",
    "    <th class=\"tg-0pky\">0</th>\n",
    "    <th class=\"tg-0pky\">1</th>\n",
    "    <th class=\"tg-0pky\">2</th>\n",
    "  </tr>\n",
    "</thead>\n",
    "<tbody>\n",
    "  <tr>\n",
    "    <td class=\"tg-0pky\">w/o edge</td>\n",
    "    <td class=\"tg-0pky\">0</td>\n",
    "    <td class=\"tg-0pky\">2</td>\n",
    "    <td class=\"tg-0pky\">1</td>\n",
    "  </tr>\n",
    "  <tr>\n",
    "    <td class=\"tg-0pky\">w/ edge</td>\n",
    "    <td class=\"tg-0pky\">0</td>\n",
    "    <td class=\"tg-0pky\">0</td>\n",
    "    <td class=\"tg-0pky\">3</td>\n",
    "  </tr>\n",
    "</tbody>\n",
    "</table>"
   ]
  },
  {
   "cell_type": "markdown",
   "id": "b8d82a86-f58a-4db7-b7a1-d5afbc0a10f0",
   "metadata": {},
   "source": [
    "- When the decay value is 0, all node degrees are treated the same\n",
    "- Adding the (2, 3) edge removes two degree-1 nodes, and adds two degree-2 nodes so `gwdegree.0` does not change\n",
    "\n",
    "#### Calculate the log-odds\n",
    "$(-4.70 \\times 1) + (-0.13 \\times 2) + (-0.25 \\times 1) + (-0.64 \\times 0) + (1.14 \\times 3) = -1.79$\n",
    "\n",
    "#### Calculate the corresponding probability"
   ]
  },
  {
   "cell_type": "code",
   "execution_count": null,
   "id": "1fa2bfaa-3ca3-4252-af0d-407c551d8df8",
   "metadata": {},
   "outputs": [],
   "source": [
    "plogis(-1.79)"
   ]
  },
  {
   "cell_type": "markdown",
   "id": "1cb0a0b5-2e0b-4e5a-8deb-5c70a7d40428",
   "metadata": {},
   "source": [
    "- generally speaking, it will get confusing to calculate the probability of a tie forming as the networks get more complex and the model terms more nested"
   ]
  },
  {
   "cell_type": "markdown",
   "id": "1080f069-91fc-47a7-9e80-4566eb2d19b0",
   "metadata": {},
   "source": [
    "#### At the block level\n",
    "- Using simulations to look at changes\n",
    "- Beyond the scope of what we can do in this tutorial\n",
    "- See the paper in PSJ\n",
    "\n",
    "Reference:"
   ]
  },
  {
   "cell_type": "markdown",
   "id": "06a5915d-1cc9-4cd6-81b5-607882282d38",
   "metadata": {},
   "source": [
    "## 3.5 ERGM Settings\n",
    "\n",
    "#### Let's conclude this section by looking at some settings and useful things to do\n",
    "- turn off `eval.loglik` if you are exploring large and complex models\n",
    "- set a seed to ensure consistency\n",
    "- increase `MCMC.burnin`, `MCMC.samplesize`, and `MCMC.interval` for higher quality estimates\n",
    "- use `parallel` to speed up estimation when working with larger models"
   ]
  },
  {
   "cell_type": "code",
   "execution_count": null,
   "id": "cf7b9184-6f48-4a47-a0a0-9dcddaf43075",
   "metadata": {},
   "outputs": [],
   "source": [
    "m2.c <- ergm(nw ~ edges + nodefactor('dem') + edgecov(joint_dem) + gwdegree(decay = 0, fixed = T) + gwesp(decay = 0, fixed = T),\n",
    "             eval.loglik = F,\n",
    "             control = control.ergm(seed = 111953,\n",
    "                                    MCMC.burnin = 5000,\n",
    "                                    MCMC.samplesize = 2000,\n",
    "                                    MCMC.interval = 2000,\n",
    "                                    parallel = 0))"
   ]
  },
  {
   "cell_type": "code",
   "execution_count": null,
   "id": "1cf597cc-7af8-4927-9442-01d7e70db070",
   "metadata": {},
   "outputs": [],
   "source": [
    "summary(m2.c)"
   ]
  },
  {
   "cell_type": "markdown",
   "id": "66982326-2651-4431-8d2d-1423a0b8d6c6",
   "metadata": {},
   "source": [
    "#### We don't get any likelihood-based statistics. We can follow the instructions to add them."
   ]
  },
  {
   "cell_type": "code",
   "execution_count": null,
   "id": "b35a7c93-ee79-4725-88a0-749ac1f3108b",
   "metadata": {},
   "outputs": [],
   "source": [
    "m2.c <- logLik(m2.c, add = T)"
   ]
  },
  {
   "cell_type": "code",
   "execution_count": null,
   "id": "dd5e7249-099d-44d0-9ce7-b29526e2c249",
   "metadata": {},
   "outputs": [],
   "source": [
    "summary(m2.c)"
   ]
  },
  {
   "cell_type": "code",
   "execution_count": null,
   "id": "74856ffe-e230-4328-9cc9-da62b02c7f34",
   "metadata": {},
   "outputs": [],
   "source": [
    "options(repr.plot.width=20, repr.plot.height=10)\n",
    "mcmc.diagnostics(m2)"
   ]
  },
  {
   "cell_type": "code",
   "execution_count": null,
   "id": "dd0de765-6b10-4d59-9b7d-7f75225e77bf",
   "metadata": {},
   "outputs": [],
   "source": [
    "options(repr.plot.width=20, repr.plot.height=10)\n",
    "mcmc.diagnostics(m2.c)"
   ]
  },
  {
   "cell_type": "markdown",
   "id": "1adfdeac-f34c-4266-aabb-b806d9c95974",
   "metadata": {},
   "source": [
    "# 4. References\n"
   ]
  },
  {
   "cell_type": "code",
   "execution_count": null,
   "id": "b12484d0-6932-4118-bf18-ef70bb377f62",
   "metadata": {},
   "outputs": [],
   "source": []
  }
 ],
 "metadata": {
  "kernelspec": {
   "display_name": "R",
   "language": "R",
   "name": "ir"
  },
  "language_info": {
   "codemirror_mode": "r",
   "file_extension": ".r",
   "mimetype": "text/x-r-source",
   "name": "R",
   "pygments_lexer": "r",
   "version": "4.1.0"
  }
 },
 "nbformat": 4,
 "nbformat_minor": 5
}
